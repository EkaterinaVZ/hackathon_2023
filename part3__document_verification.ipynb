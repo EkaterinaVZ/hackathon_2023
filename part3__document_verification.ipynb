{
  "nbformat": 4,
  "nbformat_minor": 0,
  "metadata": {
    "colab": {
      "provenance": []
    },
    "kernelspec": {
      "name": "python3",
      "display_name": "Python 3"
    },
    "language_info": {
      "name": "python"
    },
    "gpuClass": "standard"
  },
  "cells": [
    {
      "cell_type": "markdown",
      "source": [
        "# Хакатон_2023"
      ],
      "metadata": {
        "id": "stbC1XX_SANV"
      }
    },
    {
      "cell_type": "markdown",
      "source": [
        "* загружаем ранее подготовленный датасет с собранной информацией из json + сущности из docx и датасет с текстами из документов<br>\n",
        "* размечаем данные для обучения spacy новым NER<br>\n",
        "* проверяем новые документы на наличие в них ошибок"
      ],
      "metadata": {
        "id": "83lXQt2o5gvQ"
      }
    },
    {
      "cell_type": "markdown",
      "source": [
        "Имеющаяся информация:\n",
        "* id,\n",
        "* 'ORG' - название организации,\n",
        "* 'signatory' - подписант\n",
        "* 'date_sig' - дата подписания,\n",
        "* 'position_of_signatory' - должность подписанта,\n",
        "* 'title' - название документа,\n",
        "* 'Task1.task_text' - текст задачи,\n",
        "* 'Task1.task_responsibles_people' - ответствнный за задачу,\n",
        "* 'Task1.task_responsibles_groups' - ответственный отдел за задачу,\n",
        "* 'Task1.task_deadline' - срок выполнения задачи, (и так по каждой задаче),\n",
        "* 'Global_supervisor' - главный ответственный,\n",
        "* 'Global_deadline' - общий срок выполнения"
      ],
      "metadata": {
        "id": "xBHeOqPlBsDy"
      }
    },
    {
      "cell_type": "markdown",
      "source": [
        "### Ипортируем необходимые библиотеки"
      ],
      "metadata": {
        "id": "KpWgnUEPSLh9"
      }
    },
    {
      "cell_type": "code",
      "source": [
        "! pip install python-docx"
      ],
      "metadata": {
        "colab": {
          "base_uri": "https://localhost:8080/"
        },
        "id": "y3YOkqAeNif1",
        "outputId": "b38c0e9b-fb81-4395-ec63-c06d0d5bf835"
      },
      "execution_count": 1,
      "outputs": [
        {
          "output_type": "stream",
          "name": "stdout",
          "text": [
            "Looking in indexes: https://pypi.org/simple, https://us-python.pkg.dev/colab-wheels/public/simple/\n",
            "Collecting python-docx\n",
            "  Downloading python-docx-0.8.11.tar.gz (5.6 MB)\n",
            "\u001b[2K     \u001b[90m━━━━━━━━━━━━━━━━━━━━━━━━━━━━━━━━━━━━━━━━\u001b[0m \u001b[32m5.6/5.6 MB\u001b[0m \u001b[31m27.3 MB/s\u001b[0m eta \u001b[36m0:00:00\u001b[0m\n",
            "\u001b[?25h  Preparing metadata (setup.py) ... \u001b[?25l\u001b[?25hdone\n",
            "Requirement already satisfied: lxml>=2.3.2 in /usr/local/lib/python3.8/dist-packages (from python-docx) (4.9.2)\n",
            "Building wheels for collected packages: python-docx\n",
            "  Building wheel for python-docx (setup.py) ... \u001b[?25l\u001b[?25hdone\n",
            "  Created wheel for python-docx: filename=python_docx-0.8.11-py3-none-any.whl size=184505 sha256=3fab3fda23ee4a0e32bff0c94f46bb94c7194c9442def5b8715585129ff264d5\n",
            "  Stored in directory: /root/.cache/pip/wheels/32/b8/b2/c4c2b95765e615fe139b0b17b5ea7c0e1b6519b0a9ec8fb34d\n",
            "Successfully built python-docx\n",
            "Installing collected packages: python-docx\n",
            "Successfully installed python-docx-0.8.11\n"
          ]
        }
      ]
    },
    {
      "cell_type": "code",
      "source": [
        "import os\n",
        "import zipfile\n",
        "\n",
        "import docx\n",
        "from termcolor import colored\n",
        "\n",
        "import re\n",
        "\n",
        "# для работы с графами\n",
        "import networkx as nx\n",
        "\n",
        "import json\n",
        "import pandas as pd"
      ],
      "metadata": {
        "id": "HyX_4fwWSKl-"
      },
      "execution_count": 2,
      "outputs": []
    },
    {
      "cell_type": "code",
      "source": [
        "! pip install pullenti-wrapper"
      ],
      "metadata": {
        "colab": {
          "base_uri": "https://localhost:8080/"
        },
        "id": "D8A2-v8S4WsN",
        "outputId": "72470b8c-0531-4d4c-9934-391388ab8a11"
      },
      "execution_count": 3,
      "outputs": [
        {
          "output_type": "stream",
          "name": "stdout",
          "text": [
            "Looking in indexes: https://pypi.org/simple, https://us-python.pkg.dev/colab-wheels/public/simple/\n",
            "Collecting pullenti-wrapper\n",
            "  Downloading pullenti_wrapper-0.9.0-py3-none-any.whl (7.1 kB)\n",
            "Collecting pullenti-client==0.6.0\n",
            "  Downloading pullenti_client-0.6.0-py2.py3-none-any.whl (8.2 kB)\n",
            "Collecting pullenti==3.23\n",
            "  Downloading pullenti-3.23-py3-none-any.whl (15.3 MB)\n",
            "\u001b[2K     \u001b[90m━━━━━━━━━━━━━━━━━━━━━━━━━━━━━━━━━━━━━━━━\u001b[0m \u001b[32m15.3/15.3 MB\u001b[0m \u001b[31m4.3 MB/s\u001b[0m eta \u001b[36m0:00:00\u001b[0m\n",
            "\u001b[?25hRequirement already satisfied: requests in /usr/local/lib/python3.8/dist-packages (from pullenti-client==0.6.0->pullenti-wrapper) (2.25.1)\n",
            "Requirement already satisfied: urllib3<1.27,>=1.21.1 in /usr/local/lib/python3.8/dist-packages (from requests->pullenti-client==0.6.0->pullenti-wrapper) (1.24.3)\n",
            "Requirement already satisfied: certifi>=2017.4.17 in /usr/local/lib/python3.8/dist-packages (from requests->pullenti-client==0.6.0->pullenti-wrapper) (2022.12.7)\n",
            "Requirement already satisfied: idna<3,>=2.5 in /usr/local/lib/python3.8/dist-packages (from requests->pullenti-client==0.6.0->pullenti-wrapper) (2.10)\n",
            "Requirement already satisfied: chardet<5,>=3.0.2 in /usr/local/lib/python3.8/dist-packages (from requests->pullenti-client==0.6.0->pullenti-wrapper) (4.0.0)\n",
            "Installing collected packages: pullenti, pullenti-client, pullenti-wrapper\n",
            "Successfully installed pullenti-3.23 pullenti-client-0.6.0 pullenti-wrapper-0.9.0\n"
          ]
        }
      ]
    },
    {
      "cell_type": "code",
      "source": [
        "from pullenti_wrapper.processor import (\n",
        "    Processor,\n",
        "    ORGANIZATION,\n",
        "    DATE,\n",
        "    GEO,\n",
        "    PERSON,\n",
        "    MONEY,\n",
        "    PHONE, \n",
        "    ADDRESS\n",
        ")"
      ],
      "metadata": {
        "id": "AnlvcJUQ3y7_"
      },
      "execution_count": 4,
      "outputs": []
    },
    {
      "cell_type": "code",
      "source": [
        "!python -m spacy download ru_core_news_lg"
      ],
      "metadata": {
        "colab": {
          "base_uri": "https://localhost:8080/"
        },
        "id": "VMVBdD4rkypC",
        "outputId": "0be4d189-2848-4a73-8146-05c7fc8e7df6"
      },
      "execution_count": 5,
      "outputs": [
        {
          "output_type": "stream",
          "name": "stdout",
          "text": [
            "/usr/local/lib/python3.8/dist-packages/torch/cuda/__init__.py:497: UserWarning: Can't initialize NVML\n",
            "  warnings.warn(\"Can't initialize NVML\")\n",
            "2023-01-18 08:49:45.364964: E tensorflow/stream_executor/cuda/cuda_driver.cc:271] failed call to cuInit: CUDA_ERROR_NO_DEVICE: no CUDA-capable device is detected\n",
            "Looking in indexes: https://pypi.org/simple, https://us-python.pkg.dev/colab-wheels/public/simple/\n",
            "Collecting ru-core-news-lg==3.4.0\n",
            "  Downloading https://github.com/explosion/spacy-models/releases/download/ru_core_news_lg-3.4.0/ru_core_news_lg-3.4.0-py3-none-any.whl (513.4 MB)\n",
            "\u001b[2K     \u001b[90m━━━━━━━━━━━━━━━━━━━━━━━━━━━━━━━━━━━━━━━\u001b[0m \u001b[32m513.4/513.4 MB\u001b[0m \u001b[31m1.8 MB/s\u001b[0m eta \u001b[36m0:00:00\u001b[0m\n",
            "\u001b[?25hCollecting pymorphy2>=0.9\n",
            "  Downloading pymorphy2-0.9.1-py3-none-any.whl (55 kB)\n",
            "\u001b[2K     \u001b[90m━━━━━━━━━━━━━━━━━━━━━━━━━━━━━━━━━━━━━━━━\u001b[0m \u001b[32m55.5/55.5 KB\u001b[0m \u001b[31m2.8 MB/s\u001b[0m eta \u001b[36m0:00:00\u001b[0m\n",
            "\u001b[?25hRequirement already satisfied: spacy<3.5.0,>=3.4.0 in /usr/local/lib/python3.8/dist-packages (from ru-core-news-lg==3.4.0) (3.4.4)\n",
            "Collecting docopt>=0.6\n",
            "  Downloading docopt-0.6.2.tar.gz (25 kB)\n",
            "  Preparing metadata (setup.py) ... \u001b[?25l\u001b[?25hdone\n",
            "Collecting pymorphy2-dicts-ru<3.0,>=2.4\n",
            "  Downloading pymorphy2_dicts_ru-2.4.417127.4579844-py2.py3-none-any.whl (8.2 MB)\n",
            "\u001b[2K     \u001b[90m━━━━━━━━━━━━━━━━━━━━━━━━━━━━━━━━━━━━━━━━\u001b[0m \u001b[32m8.2/8.2 MB\u001b[0m \u001b[31m43.6 MB/s\u001b[0m eta \u001b[36m0:00:00\u001b[0m\n",
            "\u001b[?25hCollecting dawg-python>=0.7.1\n",
            "  Downloading DAWG_Python-0.7.2-py2.py3-none-any.whl (11 kB)\n",
            "Requirement already satisfied: cymem<2.1.0,>=2.0.2 in /usr/local/lib/python3.8/dist-packages (from spacy<3.5.0,>=3.4.0->ru-core-news-lg==3.4.0) (2.0.7)\n",
            "Requirement already satisfied: jinja2 in /usr/local/lib/python3.8/dist-packages (from spacy<3.5.0,>=3.4.0->ru-core-news-lg==3.4.0) (2.11.3)\n",
            "Requirement already satisfied: numpy>=1.15.0 in /usr/local/lib/python3.8/dist-packages (from spacy<3.5.0,>=3.4.0->ru-core-news-lg==3.4.0) (1.21.6)\n",
            "Requirement already satisfied: pydantic!=1.8,!=1.8.1,<1.11.0,>=1.7.4 in /usr/local/lib/python3.8/dist-packages (from spacy<3.5.0,>=3.4.0->ru-core-news-lg==3.4.0) (1.10.4)\n",
            "Requirement already satisfied: murmurhash<1.1.0,>=0.28.0 in /usr/local/lib/python3.8/dist-packages (from spacy<3.5.0,>=3.4.0->ru-core-news-lg==3.4.0) (1.0.9)\n",
            "Requirement already satisfied: requests<3.0.0,>=2.13.0 in /usr/local/lib/python3.8/dist-packages (from spacy<3.5.0,>=3.4.0->ru-core-news-lg==3.4.0) (2.25.1)\n",
            "Requirement already satisfied: wasabi<1.1.0,>=0.9.1 in /usr/local/lib/python3.8/dist-packages (from spacy<3.5.0,>=3.4.0->ru-core-news-lg==3.4.0) (0.10.1)\n",
            "Requirement already satisfied: thinc<8.2.0,>=8.1.0 in /usr/local/lib/python3.8/dist-packages (from spacy<3.5.0,>=3.4.0->ru-core-news-lg==3.4.0) (8.1.6)\n",
            "Requirement already satisfied: tqdm<5.0.0,>=4.38.0 in /usr/local/lib/python3.8/dist-packages (from spacy<3.5.0,>=3.4.0->ru-core-news-lg==3.4.0) (4.64.1)\n",
            "Requirement already satisfied: preshed<3.1.0,>=3.0.2 in /usr/local/lib/python3.8/dist-packages (from spacy<3.5.0,>=3.4.0->ru-core-news-lg==3.4.0) (3.0.8)\n",
            "Requirement already satisfied: srsly<3.0.0,>=2.4.3 in /usr/local/lib/python3.8/dist-packages (from spacy<3.5.0,>=3.4.0->ru-core-news-lg==3.4.0) (2.4.5)\n",
            "Requirement already satisfied: smart-open<7.0.0,>=5.2.1 in /usr/local/lib/python3.8/dist-packages (from spacy<3.5.0,>=3.4.0->ru-core-news-lg==3.4.0) (6.3.0)\n",
            "Requirement already satisfied: spacy-loggers<2.0.0,>=1.0.0 in /usr/local/lib/python3.8/dist-packages (from spacy<3.5.0,>=3.4.0->ru-core-news-lg==3.4.0) (1.0.4)\n",
            "Requirement already satisfied: langcodes<4.0.0,>=3.2.0 in /usr/local/lib/python3.8/dist-packages (from spacy<3.5.0,>=3.4.0->ru-core-news-lg==3.4.0) (3.3.0)\n",
            "Requirement already satisfied: spacy-legacy<3.1.0,>=3.0.10 in /usr/local/lib/python3.8/dist-packages (from spacy<3.5.0,>=3.4.0->ru-core-news-lg==3.4.0) (3.0.11)\n",
            "Requirement already satisfied: packaging>=20.0 in /usr/local/lib/python3.8/dist-packages (from spacy<3.5.0,>=3.4.0->ru-core-news-lg==3.4.0) (21.3)\n",
            "Requirement already satisfied: catalogue<2.1.0,>=2.0.6 in /usr/local/lib/python3.8/dist-packages (from spacy<3.5.0,>=3.4.0->ru-core-news-lg==3.4.0) (2.0.8)\n",
            "Requirement already satisfied: typer<0.8.0,>=0.3.0 in /usr/local/lib/python3.8/dist-packages (from spacy<3.5.0,>=3.4.0->ru-core-news-lg==3.4.0) (0.7.0)\n",
            "Requirement already satisfied: setuptools in /usr/local/lib/python3.8/dist-packages (from spacy<3.5.0,>=3.4.0->ru-core-news-lg==3.4.0) (57.4.0)\n",
            "Requirement already satisfied: pathy>=0.3.5 in /usr/local/lib/python3.8/dist-packages (from spacy<3.5.0,>=3.4.0->ru-core-news-lg==3.4.0) (0.10.1)\n",
            "Requirement already satisfied: pyparsing!=3.0.5,>=2.0.2 in /usr/local/lib/python3.8/dist-packages (from packaging>=20.0->spacy<3.5.0,>=3.4.0->ru-core-news-lg==3.4.0) (3.0.9)\n",
            "Requirement already satisfied: typing-extensions>=4.2.0 in /usr/local/lib/python3.8/dist-packages (from pydantic!=1.8,!=1.8.1,<1.11.0,>=1.7.4->spacy<3.5.0,>=3.4.0->ru-core-news-lg==3.4.0) (4.4.0)\n",
            "Requirement already satisfied: certifi>=2017.4.17 in /usr/local/lib/python3.8/dist-packages (from requests<3.0.0,>=2.13.0->spacy<3.5.0,>=3.4.0->ru-core-news-lg==3.4.0) (2022.12.7)\n",
            "Requirement already satisfied: urllib3<1.27,>=1.21.1 in /usr/local/lib/python3.8/dist-packages (from requests<3.0.0,>=2.13.0->spacy<3.5.0,>=3.4.0->ru-core-news-lg==3.4.0) (1.24.3)\n",
            "Requirement already satisfied: chardet<5,>=3.0.2 in /usr/local/lib/python3.8/dist-packages (from requests<3.0.0,>=2.13.0->spacy<3.5.0,>=3.4.0->ru-core-news-lg==3.4.0) (4.0.0)\n",
            "Requirement already satisfied: idna<3,>=2.5 in /usr/local/lib/python3.8/dist-packages (from requests<3.0.0,>=2.13.0->spacy<3.5.0,>=3.4.0->ru-core-news-lg==3.4.0) (2.10)\n",
            "Requirement already satisfied: blis<0.8.0,>=0.7.8 in /usr/local/lib/python3.8/dist-packages (from thinc<8.2.0,>=8.1.0->spacy<3.5.0,>=3.4.0->ru-core-news-lg==3.4.0) (0.7.9)\n",
            "Requirement already satisfied: confection<1.0.0,>=0.0.1 in /usr/local/lib/python3.8/dist-packages (from thinc<8.2.0,>=8.1.0->spacy<3.5.0,>=3.4.0->ru-core-news-lg==3.4.0) (0.0.3)\n",
            "Requirement already satisfied: click<9.0.0,>=7.1.1 in /usr/local/lib/python3.8/dist-packages (from typer<0.8.0,>=0.3.0->spacy<3.5.0,>=3.4.0->ru-core-news-lg==3.4.0) (7.1.2)\n",
            "Requirement already satisfied: MarkupSafe>=0.23 in /usr/local/lib/python3.8/dist-packages (from jinja2->spacy<3.5.0,>=3.4.0->ru-core-news-lg==3.4.0) (2.0.1)\n",
            "Building wheels for collected packages: docopt\n",
            "  Building wheel for docopt (setup.py) ... \u001b[?25l\u001b[?25hdone\n",
            "  Created wheel for docopt: filename=docopt-0.6.2-py2.py3-none-any.whl size=13723 sha256=0c963fa33bdc43b039e5098775080deb857f28fcf3e048092d06363f3568b336\n",
            "  Stored in directory: /root/.cache/pip/wheels/56/ea/58/ead137b087d9e326852a851351d1debf4ada529b6ac0ec4e8c\n",
            "Successfully built docopt\n",
            "Installing collected packages: pymorphy2-dicts-ru, docopt, dawg-python, pymorphy2, ru-core-news-lg\n",
            "Successfully installed dawg-python-0.7.2 docopt-0.6.2 pymorphy2-0.9.1 pymorphy2-dicts-ru-2.4.417127.4579844 ru-core-news-lg-3.4.0\n",
            "\u001b[38;5;2m✔ Download and installation successful\u001b[0m\n",
            "You can now load the package via spacy.load('ru_core_news_lg')\n"
          ]
        }
      ]
    },
    {
      "cell_type": "code",
      "source": [
        "import spacy\n",
        "nlp = spacy.load('ru_core_news_lg')"
      ],
      "metadata": {
        "id": "prPJl6gbeshl",
        "colab": {
          "base_uri": "https://localhost:8080/"
        },
        "outputId": "19003177-f8f3-49ce-df19-470ae1cc4487"
      },
      "execution_count": 6,
      "outputs": [
        {
          "output_type": "stream",
          "name": "stderr",
          "text": [
            "/usr/local/lib/python3.8/dist-packages/torch/cuda/__init__.py:497: UserWarning: Can't initialize NVML\n",
            "  warnings.warn(\"Can't initialize NVML\")\n"
          ]
        }
      ]
    },
    {
      "cell_type": "markdown",
      "source": [
        "# Загружаем подготовленные ранее данные для разметки"
      ],
      "metadata": {
        "id": "h6ycVd2QyK11"
      }
    },
    {
      "cell_type": "code",
      "source": [
        "df1 = pd.read_csv(\"/content/markup_18.01.2023.csv\")"
      ],
      "metadata": {
        "id": "6A4-Ex_s8MIx"
      },
      "execution_count": 85,
      "outputs": []
    },
    {
      "cell_type": "code",
      "source": [
        "df1.head(3)"
      ],
      "metadata": {
        "colab": {
          "base_uri": "https://localhost:8080/",
          "height": 428
        },
        "id": "MNE14CkW8aYl",
        "outputId": "3e678271-da95-42bb-dfff-86c5487dab40"
      },
      "execution_count": 99,
      "outputs": [
        {
          "output_type": "execute_result",
          "data": {
            "text/plain": [
              "   id                                  Signatory    Organization  \\\n",
              "0   0  и.о. генерального директора Сердитый А.И.  ООО \"Мегасофт\"   \n",
              "1   1  и.о. генерального директора Сердитый А.И.  ООО \"Мегасофт\"   \n",
              "2   2          генеральный директор Созонов С.В.  ООО \"Мегасофт\"   \n",
              "\n",
              "                                     Task1.task_text   Date_sig   Title  \\\n",
              "0        Закупить книги. Срок завершения: 19 апр 15.  11.4.2013  Приказ   \n",
              "1  Провести анализ поставщиков для замены вышедше...   3.6.2013  Приказ   \n",
              "2  Провести рефакторинг программного обеспечения ...  8.10.2014  Приказ   \n",
              "\n",
              "                      Task1.task_responsibles_people  \\\n",
              "0  Ответственность за исполнение распоряжения воз...   \n",
              "1  Ответственность за исполнение распоряжения воз...   \n",
              "2  Контроль над исполнением распоряжения оставить...   \n",
              "\n",
              "        Task1.task_responsibles_groups              Task1.task_deadline  \\\n",
              "0  Административно-хозяйственный отдел      ['19 апр 15', 1429383600.0]   \n",
              "1                            Служба ИТ  ['24 октября 12', 1351015200.0]   \n",
              "2              Отдел разработки систем       ['24.12.20', 1608750000.0]   \n",
              "\n",
              "                                     Task2.task_text  ...  \\\n",
              "0                                                NaN  ...   \n",
              "1  Выполнить ремонт кабеля сети передачи данных м...  ...   \n",
              "2  Провести рефакторинг программного обеспечения ...  ...   \n",
              "\n",
              "  responsibles_people_Task4.      responsibles_people_Task5.  \\\n",
              "0                        NaN                             NaN   \n",
              "1                        NaN                             NaN   \n",
              "2      технического писателя  специалистом третьей категории   \n",
              "\n",
              "      responsibles_people_Task6. responsibles_people_Task7.  \\\n",
              "0                            NaN                        NaN   \n",
              "1                            NaN                        NaN   \n",
              "2  специалиста третьей категории                        NaN   \n",
              "\n",
              "  responsibles_people_Task8. responsibles_people_Task9.  \\\n",
              "0                        NaN                        NaN   \n",
              "1                        NaN                        NaN   \n",
              "2                        NaN                        NaN   \n",
              "\n",
              "  responsibles_people_respon Nasmes_global_supervisor  \\\n",
              "0                        NaN                      NaN   \n",
              "1                        NaN                      NaN   \n",
              "2                        NaN                      NaN   \n",
              "\n",
              "                             Names_global_supervisor  \\\n",
              "0                                  ['Кравцову И.Е.']   \n",
              "1  ['Кима Юрия Ивановича', 'Сергеева Андрея', 'Ко...   \n",
              "2  ['Абаимовым Симоном', 'Ответственным', 'Абаимо...   \n",
              "\n",
              "                            Posts_global_supervisors  \n",
              "0                   ['специалиста первой категории']  \n",
              "1  ['специалиста третьей категории', 'системного ...  \n",
              "2  ['тимлидами проектной команды', 'тимлид проект...  \n",
              "\n",
              "[3 rows x 67 columns]"
            ],
            "text/html": [
              "\n",
              "  <div id=\"df-76056ab6-ec14-43bf-ac00-a56101243dc5\">\n",
              "    <div class=\"colab-df-container\">\n",
              "      <div>\n",
              "<style scoped>\n",
              "    .dataframe tbody tr th:only-of-type {\n",
              "        vertical-align: middle;\n",
              "    }\n",
              "\n",
              "    .dataframe tbody tr th {\n",
              "        vertical-align: top;\n",
              "    }\n",
              "\n",
              "    .dataframe thead th {\n",
              "        text-align: right;\n",
              "    }\n",
              "</style>\n",
              "<table border=\"1\" class=\"dataframe\">\n",
              "  <thead>\n",
              "    <tr style=\"text-align: right;\">\n",
              "      <th></th>\n",
              "      <th>id</th>\n",
              "      <th>Signatory</th>\n",
              "      <th>Organization</th>\n",
              "      <th>Task1.task_text</th>\n",
              "      <th>Date_sig</th>\n",
              "      <th>Title</th>\n",
              "      <th>Task1.task_responsibles_people</th>\n",
              "      <th>Task1.task_responsibles_groups</th>\n",
              "      <th>Task1.task_deadline</th>\n",
              "      <th>Task2.task_text</th>\n",
              "      <th>...</th>\n",
              "      <th>responsibles_people_Task4.</th>\n",
              "      <th>responsibles_people_Task5.</th>\n",
              "      <th>responsibles_people_Task6.</th>\n",
              "      <th>responsibles_people_Task7.</th>\n",
              "      <th>responsibles_people_Task8.</th>\n",
              "      <th>responsibles_people_Task9.</th>\n",
              "      <th>responsibles_people_respon</th>\n",
              "      <th>Nasmes_global_supervisor</th>\n",
              "      <th>Names_global_supervisor</th>\n",
              "      <th>Posts_global_supervisors</th>\n",
              "    </tr>\n",
              "  </thead>\n",
              "  <tbody>\n",
              "    <tr>\n",
              "      <th>0</th>\n",
              "      <td>0</td>\n",
              "      <td>и.о. генерального директора Сердитый А.И.</td>\n",
              "      <td>ООО \"Мегасофт\"</td>\n",
              "      <td>Закупить книги. Срок завершения: 19 апр 15.</td>\n",
              "      <td>11.4.2013</td>\n",
              "      <td>Приказ</td>\n",
              "      <td>Ответственность за исполнение распоряжения воз...</td>\n",
              "      <td>Административно-хозяйственный отдел</td>\n",
              "      <td>['19 апр 15', 1429383600.0]</td>\n",
              "      <td>NaN</td>\n",
              "      <td>...</td>\n",
              "      <td>NaN</td>\n",
              "      <td>NaN</td>\n",
              "      <td>NaN</td>\n",
              "      <td>NaN</td>\n",
              "      <td>NaN</td>\n",
              "      <td>NaN</td>\n",
              "      <td>NaN</td>\n",
              "      <td>NaN</td>\n",
              "      <td>['Кравцову И.Е.']</td>\n",
              "      <td>['специалиста первой категории']</td>\n",
              "    </tr>\n",
              "    <tr>\n",
              "      <th>1</th>\n",
              "      <td>1</td>\n",
              "      <td>и.о. генерального директора Сердитый А.И.</td>\n",
              "      <td>ООО \"Мегасофт\"</td>\n",
              "      <td>Провести анализ поставщиков для замены вышедше...</td>\n",
              "      <td>3.6.2013</td>\n",
              "      <td>Приказ</td>\n",
              "      <td>Ответственность за исполнение распоряжения воз...</td>\n",
              "      <td>Служба ИТ</td>\n",
              "      <td>['24 октября 12', 1351015200.0]</td>\n",
              "      <td>Выполнить ремонт кабеля сети передачи данных м...</td>\n",
              "      <td>...</td>\n",
              "      <td>NaN</td>\n",
              "      <td>NaN</td>\n",
              "      <td>NaN</td>\n",
              "      <td>NaN</td>\n",
              "      <td>NaN</td>\n",
              "      <td>NaN</td>\n",
              "      <td>NaN</td>\n",
              "      <td>NaN</td>\n",
              "      <td>['Кима Юрия Ивановича', 'Сергеева Андрея', 'Ко...</td>\n",
              "      <td>['специалиста третьей категории', 'системного ...</td>\n",
              "    </tr>\n",
              "    <tr>\n",
              "      <th>2</th>\n",
              "      <td>2</td>\n",
              "      <td>генеральный директор Созонов С.В.</td>\n",
              "      <td>ООО \"Мегасофт\"</td>\n",
              "      <td>Провести рефакторинг программного обеспечения ...</td>\n",
              "      <td>8.10.2014</td>\n",
              "      <td>Приказ</td>\n",
              "      <td>Контроль над исполнением распоряжения оставить...</td>\n",
              "      <td>Отдел разработки систем</td>\n",
              "      <td>['24.12.20', 1608750000.0]</td>\n",
              "      <td>Провести рефакторинг программного обеспечения ...</td>\n",
              "      <td>...</td>\n",
              "      <td>технического писателя</td>\n",
              "      <td>специалистом третьей категории</td>\n",
              "      <td>специалиста третьей категории</td>\n",
              "      <td>NaN</td>\n",
              "      <td>NaN</td>\n",
              "      <td>NaN</td>\n",
              "      <td>NaN</td>\n",
              "      <td>NaN</td>\n",
              "      <td>['Абаимовым Симоном', 'Ответственным', 'Абаимо...</td>\n",
              "      <td>['тимлидами проектной команды', 'тимлид проект...</td>\n",
              "    </tr>\n",
              "  </tbody>\n",
              "</table>\n",
              "<p>3 rows × 67 columns</p>\n",
              "</div>\n",
              "      <button class=\"colab-df-convert\" onclick=\"convertToInteractive('df-76056ab6-ec14-43bf-ac00-a56101243dc5')\"\n",
              "              title=\"Convert this dataframe to an interactive table.\"\n",
              "              style=\"display:none;\">\n",
              "        \n",
              "  <svg xmlns=\"http://www.w3.org/2000/svg\" height=\"24px\"viewBox=\"0 0 24 24\"\n",
              "       width=\"24px\">\n",
              "    <path d=\"M0 0h24v24H0V0z\" fill=\"none\"/>\n",
              "    <path d=\"M18.56 5.44l.94 2.06.94-2.06 2.06-.94-2.06-.94-.94-2.06-.94 2.06-2.06.94zm-11 1L8.5 8.5l.94-2.06 2.06-.94-2.06-.94L8.5 2.5l-.94 2.06-2.06.94zm10 10l.94 2.06.94-2.06 2.06-.94-2.06-.94-.94-2.06-.94 2.06-2.06.94z\"/><path d=\"M17.41 7.96l-1.37-1.37c-.4-.4-.92-.59-1.43-.59-.52 0-1.04.2-1.43.59L10.3 9.45l-7.72 7.72c-.78.78-.78 2.05 0 2.83L4 21.41c.39.39.9.59 1.41.59.51 0 1.02-.2 1.41-.59l7.78-7.78 2.81-2.81c.8-.78.8-2.07 0-2.86zM5.41 20L4 18.59l7.72-7.72 1.47 1.35L5.41 20z\"/>\n",
              "  </svg>\n",
              "      </button>\n",
              "      \n",
              "  <style>\n",
              "    .colab-df-container {\n",
              "      display:flex;\n",
              "      flex-wrap:wrap;\n",
              "      gap: 12px;\n",
              "    }\n",
              "\n",
              "    .colab-df-convert {\n",
              "      background-color: #E8F0FE;\n",
              "      border: none;\n",
              "      border-radius: 50%;\n",
              "      cursor: pointer;\n",
              "      display: none;\n",
              "      fill: #1967D2;\n",
              "      height: 32px;\n",
              "      padding: 0 0 0 0;\n",
              "      width: 32px;\n",
              "    }\n",
              "\n",
              "    .colab-df-convert:hover {\n",
              "      background-color: #E2EBFA;\n",
              "      box-shadow: 0px 1px 2px rgba(60, 64, 67, 0.3), 0px 1px 3px 1px rgba(60, 64, 67, 0.15);\n",
              "      fill: #174EA6;\n",
              "    }\n",
              "\n",
              "    [theme=dark] .colab-df-convert {\n",
              "      background-color: #3B4455;\n",
              "      fill: #D2E3FC;\n",
              "    }\n",
              "\n",
              "    [theme=dark] .colab-df-convert:hover {\n",
              "      background-color: #434B5C;\n",
              "      box-shadow: 0px 1px 3px 1px rgba(0, 0, 0, 0.15);\n",
              "      filter: drop-shadow(0px 1px 2px rgba(0, 0, 0, 0.3));\n",
              "      fill: #FFFFFF;\n",
              "    }\n",
              "  </style>\n",
              "\n",
              "      <script>\n",
              "        const buttonEl =\n",
              "          document.querySelector('#df-76056ab6-ec14-43bf-ac00-a56101243dc5 button.colab-df-convert');\n",
              "        buttonEl.style.display =\n",
              "          google.colab.kernel.accessAllowed ? 'block' : 'none';\n",
              "\n",
              "        async function convertToInteractive(key) {\n",
              "          const element = document.querySelector('#df-76056ab6-ec14-43bf-ac00-a56101243dc5');\n",
              "          const dataTable =\n",
              "            await google.colab.kernel.invokeFunction('convertToInteractive',\n",
              "                                                     [key], {});\n",
              "          if (!dataTable) return;\n",
              "\n",
              "          const docLinkHtml = 'Like what you see? Visit the ' +\n",
              "            '<a target=\"_blank\" href=https://colab.research.google.com/notebooks/data_table.ipynb>data table notebook</a>'\n",
              "            + ' to learn more about interactive tables.';\n",
              "          element.innerHTML = '';\n",
              "          dataTable['output_type'] = 'display_data';\n",
              "          await google.colab.output.renderOutput(dataTable, element);\n",
              "          const docLink = document.createElement('div');\n",
              "          docLink.innerHTML = docLinkHtml;\n",
              "          element.appendChild(docLink);\n",
              "        }\n",
              "      </script>\n",
              "    </div>\n",
              "  </div>\n",
              "  "
            ]
          },
          "metadata": {},
          "execution_count": 99
        }
      ]
    },
    {
      "cell_type": "code",
      "source": [
        "def clear_txt(x):\n",
        "  txt = \"\"\n",
        "  doc = nlp(x)\n",
        "  for entity in doc:\n",
        "      res = entity.lemma_\n",
        "      txt += (\" \" + res)\n",
        "  return txt\n"
      ],
      "metadata": {
        "id": "784EH44cW8qr"
      },
      "execution_count": 14,
      "outputs": []
    },
    {
      "cell_type": "code",
      "source": [
        "nlp = spacy.load(\"/content/pipeline\")"
      ],
      "metadata": {
        "id": "Cvpz9ARj54Nd"
      },
      "execution_count": null,
      "outputs": []
    },
    {
      "cell_type": "code",
      "source": [
        "nlp = spacy.blank(\"ru\").from_disk(\"/content/pipeline\")"
      ],
      "metadata": {
        "id": "yQpzsxd256T7"
      },
      "execution_count": null,
      "outputs": []
    },
    {
      "cell_type": "markdown",
      "source": [
        "### Проверка новых документов на наличие ошибок"
      ],
      "metadata": {
        "id": "vunXPmvpCri7"
      }
    },
    {
      "cell_type": "code",
      "source": [
        "! unzip file.zip -d \"/content/drive/MyDrive/Хакатон_2023/drive-download-20230118T112934Z-001.zip\""
      ],
      "metadata": {
        "colab": {
          "base_uri": "https://localhost:8080/"
        },
        "id": "uHyyh2u7qhxk",
        "outputId": "947e992d-5e3b-4f88-9042-6ec257c993e2"
      },
      "execution_count": 134,
      "outputs": [
        {
          "output_type": "stream",
          "name": "stdout",
          "text": [
            "unzip:  cannot find or open file.zip, file.zip.zip or file.zip.ZIP.\n"
          ]
        }
      ]
    },
    {
      "cell_type": "code",
      "source": [
        "all_text = []\n",
        "file_names = []\n",
        "\n",
        "path_normalized = os.path.normpath(\"/content/test\")\n",
        "for dirpath, dirnames, filenames in os.walk(path_normalized):\n",
        "    for file in filenames:\n",
        "        file_names.append(int(file.rstrip('.docx')))\n",
        "        text_doc = []\n",
        "        doc = docx.Document(os.path.normpath(path_normalized + \"/\" + file))\n",
        "        # собираем документ в список по абзацам и удаляем пустые абзацы\n",
        "        for par in doc.paragraphs:\n",
        "            if par.text != \"\":\n",
        "                text_doc.append(par.text)\n",
        "        txt = '\\n'.join(text_doc)\n",
        "        all_text.append(txt)\n",
        "new_df = pd.DataFrame({\"id\": file_names, \"text\": all_text}, columns=[\"id\", \"text\"])\n",
        "new_df.set_index('id', inplace=True)\n",
        "new_df.sort_index(inplace=True) # сортируем по индеку=id \n",
        "print(new_df.tail(5))"
      ],
      "metadata": {
        "id": "4G87EWfEChX-",
        "colab": {
          "base_uri": "https://localhost:8080/"
        },
        "outputId": "4100cf66-f33e-4f7f-d5cd-a4994bf5a712"
      },
      "execution_count": 135,
      "outputs": [
        {
          "output_type": "stream",
          "name": "stdout",
          "text": [
            "                                                    text\n",
            "id                                                      \n",
            "17563  ООО \"Мегасофт\"\\n\\n\\nПриказ\\nВ связи с подготов...\n",
            "18344  ООО \"Мегасофт\"\\n\\n\\nПриказ\\nВ связи с окончани...\n",
            "19196  ООО \"Мегасофт\"\\n\\n\\nПриказ\\nВ связи с окончани...\n",
            "19877  ООО \"Мегасофт\"\\n\\n\\nПриказ\\nВ связи с подготов...\n",
            "19969  ООО \"Мегафон\"\\n\\n\\nПриказ\\nВ связи с подготовк...\n"
          ]
        }
      ]
    },
    {
      "cell_type": "code",
      "source": [
        "df2 = new_df.copy()"
      ],
      "metadata": {
        "id": "n2wHyfcoYB8E"
      },
      "execution_count": 136,
      "outputs": []
    },
    {
      "cell_type": "code",
      "source": [
        "def clear_text(x):\n",
        "    txt = \"\"\n",
        "    s = re.sub(\"\\s+\", \" \", x)\n",
        "    doc = nlp(s)\n",
        "    for entity in doc:\n",
        "      if entity not in \"\"\n",
        "        res = entity.lemma_\n",
        "        txt += (\" \" + res)\n",
        "    return txt"
      ],
      "metadata": {
        "id": "bxcscer2C-rY"
      },
      "execution_count": 137,
      "outputs": []
    },
    {
      "cell_type": "code",
      "source": [
        "df2[\"clear_text\"] = df2[\"text\"].apply(lambda x: clear_text(x))"
      ],
      "metadata": {
        "id": "cAXQQnOVC-rZ"
      },
      "execution_count": 138,
      "outputs": []
    },
    {
      "cell_type": "code",
      "source": [
        "df2.head(3)"
      ],
      "metadata": {
        "colab": {
          "base_uri": "https://localhost:8080/",
          "height": 175
        },
        "id": "46dG4EP4Jb0V",
        "outputId": "7be0b0e3-73f8-40ba-e7fb-c7b0f463f31a"
      },
      "execution_count": 139,
      "outputs": [
        {
          "output_type": "execute_result",
          "data": {
            "text/plain": [
              "                                                    text  \\\n",
              "id                                                         \n",
              "10008  ООО \"Морковь\"\\n\\n\\nПриказ\\nВ связи с окончание...   \n",
              "10677  ООО \"Максидом\"\\n\\n\\nПриказ\\nВ связи с подготов...   \n",
              "11727  ООО \"Столы и стулья\"\\n\\n\\nПриказ\\nДля организа...   \n",
              "\n",
              "                                              clear_text  \n",
              "id                                                        \n",
              "10008   ооо \" морковь \" приказ в связь с окончание пр...  \n",
              "10677   ооо \" максидом \" приказ в связь с подготовка ...  \n",
              "11727   ооо \" стол и стул \" приказ для организация ме...  "
            ],
            "text/html": [
              "\n",
              "  <div id=\"df-867cf696-a3a4-46c2-bca6-052adfeec4ca\">\n",
              "    <div class=\"colab-df-container\">\n",
              "      <div>\n",
              "<style scoped>\n",
              "    .dataframe tbody tr th:only-of-type {\n",
              "        vertical-align: middle;\n",
              "    }\n",
              "\n",
              "    .dataframe tbody tr th {\n",
              "        vertical-align: top;\n",
              "    }\n",
              "\n",
              "    .dataframe thead th {\n",
              "        text-align: right;\n",
              "    }\n",
              "</style>\n",
              "<table border=\"1\" class=\"dataframe\">\n",
              "  <thead>\n",
              "    <tr style=\"text-align: right;\">\n",
              "      <th></th>\n",
              "      <th>text</th>\n",
              "      <th>clear_text</th>\n",
              "    </tr>\n",
              "    <tr>\n",
              "      <th>id</th>\n",
              "      <th></th>\n",
              "      <th></th>\n",
              "    </tr>\n",
              "  </thead>\n",
              "  <tbody>\n",
              "    <tr>\n",
              "      <th>10008</th>\n",
              "      <td>ООО \"Морковь\"\\n\\n\\nПриказ\\nВ связи с окончание...</td>\n",
              "      <td>ооо \" морковь \" приказ в связь с окончание пр...</td>\n",
              "    </tr>\n",
              "    <tr>\n",
              "      <th>10677</th>\n",
              "      <td>ООО \"Максидом\"\\n\\n\\nПриказ\\nВ связи с подготов...</td>\n",
              "      <td>ооо \" максидом \" приказ в связь с подготовка ...</td>\n",
              "    </tr>\n",
              "    <tr>\n",
              "      <th>11727</th>\n",
              "      <td>ООО \"Столы и стулья\"\\n\\n\\nПриказ\\nДля организа...</td>\n",
              "      <td>ооо \" стол и стул \" приказ для организация ме...</td>\n",
              "    </tr>\n",
              "  </tbody>\n",
              "</table>\n",
              "</div>\n",
              "      <button class=\"colab-df-convert\" onclick=\"convertToInteractive('df-867cf696-a3a4-46c2-bca6-052adfeec4ca')\"\n",
              "              title=\"Convert this dataframe to an interactive table.\"\n",
              "              style=\"display:none;\">\n",
              "        \n",
              "  <svg xmlns=\"http://www.w3.org/2000/svg\" height=\"24px\"viewBox=\"0 0 24 24\"\n",
              "       width=\"24px\">\n",
              "    <path d=\"M0 0h24v24H0V0z\" fill=\"none\"/>\n",
              "    <path d=\"M18.56 5.44l.94 2.06.94-2.06 2.06-.94-2.06-.94-.94-2.06-.94 2.06-2.06.94zm-11 1L8.5 8.5l.94-2.06 2.06-.94-2.06-.94L8.5 2.5l-.94 2.06-2.06.94zm10 10l.94 2.06.94-2.06 2.06-.94-2.06-.94-.94-2.06-.94 2.06-2.06.94z\"/><path d=\"M17.41 7.96l-1.37-1.37c-.4-.4-.92-.59-1.43-.59-.52 0-1.04.2-1.43.59L10.3 9.45l-7.72 7.72c-.78.78-.78 2.05 0 2.83L4 21.41c.39.39.9.59 1.41.59.51 0 1.02-.2 1.41-.59l7.78-7.78 2.81-2.81c.8-.78.8-2.07 0-2.86zM5.41 20L4 18.59l7.72-7.72 1.47 1.35L5.41 20z\"/>\n",
              "  </svg>\n",
              "      </button>\n",
              "      \n",
              "  <style>\n",
              "    .colab-df-container {\n",
              "      display:flex;\n",
              "      flex-wrap:wrap;\n",
              "      gap: 12px;\n",
              "    }\n",
              "\n",
              "    .colab-df-convert {\n",
              "      background-color: #E8F0FE;\n",
              "      border: none;\n",
              "      border-radius: 50%;\n",
              "      cursor: pointer;\n",
              "      display: none;\n",
              "      fill: #1967D2;\n",
              "      height: 32px;\n",
              "      padding: 0 0 0 0;\n",
              "      width: 32px;\n",
              "    }\n",
              "\n",
              "    .colab-df-convert:hover {\n",
              "      background-color: #E2EBFA;\n",
              "      box-shadow: 0px 1px 2px rgba(60, 64, 67, 0.3), 0px 1px 3px 1px rgba(60, 64, 67, 0.15);\n",
              "      fill: #174EA6;\n",
              "    }\n",
              "\n",
              "    [theme=dark] .colab-df-convert {\n",
              "      background-color: #3B4455;\n",
              "      fill: #D2E3FC;\n",
              "    }\n",
              "\n",
              "    [theme=dark] .colab-df-convert:hover {\n",
              "      background-color: #434B5C;\n",
              "      box-shadow: 0px 1px 3px 1px rgba(0, 0, 0, 0.15);\n",
              "      filter: drop-shadow(0px 1px 2px rgba(0, 0, 0, 0.3));\n",
              "      fill: #FFFFFF;\n",
              "    }\n",
              "  </style>\n",
              "\n",
              "      <script>\n",
              "        const buttonEl =\n",
              "          document.querySelector('#df-867cf696-a3a4-46c2-bca6-052adfeec4ca button.colab-df-convert');\n",
              "        buttonEl.style.display =\n",
              "          google.colab.kernel.accessAllowed ? 'block' : 'none';\n",
              "\n",
              "        async function convertToInteractive(key) {\n",
              "          const element = document.querySelector('#df-867cf696-a3a4-46c2-bca6-052adfeec4ca');\n",
              "          const dataTable =\n",
              "            await google.colab.kernel.invokeFunction('convertToInteractive',\n",
              "                                                     [key], {});\n",
              "          if (!dataTable) return;\n",
              "\n",
              "          const docLinkHtml = 'Like what you see? Visit the ' +\n",
              "            '<a target=\"_blank\" href=https://colab.research.google.com/notebooks/data_table.ipynb>data table notebook</a>'\n",
              "            + ' to learn more about interactive tables.';\n",
              "          element.innerHTML = '';\n",
              "          dataTable['output_type'] = 'display_data';\n",
              "          await google.colab.output.renderOutput(dataTable, element);\n",
              "          const docLink = document.createElement('div');\n",
              "          docLink.innerHTML = docLinkHtml;\n",
              "          element.appendChild(docLink);\n",
              "        }\n",
              "      </script>\n",
              "    </div>\n",
              "  </div>\n",
              "  "
            ]
          },
          "metadata": {},
          "execution_count": 139
        }
      ]
    },
    {
      "cell_type": "code",
      "source": [
        "org_list = [''.join(i) for i in df1['Organization']]\n",
        "org_list = [clear_text(i) for i in org_list]"
      ],
      "metadata": {
        "id": "ygBWgtWLMVjR"
      },
      "execution_count": 176,
      "outputs": []
    },
    {
      "cell_type": "code",
      "source": [
        "org_list"
      ],
      "metadata": {
        "id": "Z3u7bA9Vubf2"
      },
      "execution_count": null,
      "outputs": []
    },
    {
      "cell_type": "code",
      "source": [
        "def verify_org(x):\n",
        "       flag = \"N\"\n",
        "       orgs = []\n",
        "       doc = nlp(x)\n",
        "       for entity in doc.ents:\n",
        "          if entity.label_ == \"ORG\":\n",
        "            orgs.append(entity.text)\n",
        "       for i in orgs:\n",
        "        if i in org_list:\n",
        "          print(i)\n",
        "          flag = \"Y\"\n",
        "       return flag"
      ],
      "metadata": {
        "id": "KkduO09REx2h"
      },
      "execution_count": 178,
      "outputs": []
    },
    {
      "cell_type": "code",
      "source": [
        "def get_org(x):\n",
        "       flag = \"N\"\n",
        "       orgs = []\n",
        "       doc = nlp(x)\n",
        "       for entity in doc.ents:\n",
        "          if entity.label_ == \"ORG\":\n",
        "            orgs.append(entity.text)\n",
        "       for i in orgs:\n",
        "        if i in org_list:\n",
        "          flag = \"Y\"\n",
        "       return orgs"
      ],
      "metadata": {
        "id": "gfFj8y7YfJ3F"
      },
      "execution_count": 179,
      "outputs": []
    },
    {
      "cell_type": "code",
      "source": [
        "df2[\"verification_org\"] = df2[\"clear_text\"].apply(lambda x: verify_org(x))\n",
        "df2[\"exist_org\"] = df2[\"clear_text\"].apply(lambda x: get_org(x))"
      ],
      "metadata": {
        "id": "J-ijSRcUGQf0"
      },
      "execution_count": 180,
      "outputs": []
    },
    {
      "cell_type": "code",
      "source": [
        "persons_list =[''.join(i) for i in df1['executor_Task1.'] if i and isinstance(i, str)]\n",
        "persons_list = [clear_text(i) for i in persons_list]"
      ],
      "metadata": {
        "id": "mJSQGYX1PEax"
      },
      "execution_count": 167,
      "outputs": []
    },
    {
      "cell_type": "code",
      "source": [
        "def verify_per(x):\n",
        "       new_per = []\n",
        "       persons = []\n",
        "       doc = nlp(x)\n",
        "       for entity in doc.ents:\n",
        "          if entity.label_ == \"PER\":\n",
        "            persons.append(entity.text)\n",
        "       for i in persons:\n",
        "        if i not in persons_list:\n",
        "          print(111)\n",
        "          new_per.append(i)\n",
        "\n",
        "        return new_per"
      ],
      "metadata": {
        "id": "-c0BxTPTQLkq"
      },
      "execution_count": 187,
      "outputs": []
    },
    {
      "cell_type": "code",
      "source": [
        "def exist_per(x):\n",
        "       persons = []\n",
        "       doc = nlp(x)\n",
        "       for entity in doc.ents:\n",
        "          if entity.label_ == \"PER\":\n",
        "            persons.append(entity.text)\n",
        "       existing_per = 0\n",
        "       for i in persons:\n",
        "          if i in persons_list:\n",
        "            print(111)\n",
        "            existing_per += 1\n",
        "\n",
        "       return existing_per"
      ],
      "metadata": {
        "id": "ntxNBpgff1WL"
      },
      "execution_count": 195,
      "outputs": []
    },
    {
      "cell_type": "code",
      "source": [
        "df2[\"new_persons\"] = df2[\"clear_text\"].apply(lambda x: verify_per(x))\n",
        "df2[\"exist_persons\"] = df2[\"clear_text\"].apply(lambda x: exist_per(x))"
      ],
      "metadata": {
        "id": "5ze4Z7VSQP0t"
      },
      "execution_count": 196,
      "outputs": []
    },
    {
      "cell_type": "code",
      "source": [
        "df2"
      ],
      "metadata": {
        "colab": {
          "base_uri": "https://localhost:8080/",
          "height": 708
        },
        "id": "FqkQuSqcXvIW",
        "outputId": "a26ea802-55fd-46b5-9a0f-bb5ad364f328"
      },
      "execution_count": 190,
      "outputs": [
        {
          "output_type": "execute_result",
          "data": {
            "text/plain": [
              "                                                    text  \\\n",
              "id                                                         \n",
              "10008  ООО \"Морковь\"\\n\\n\\nПриказ\\nВ связи с окончание...   \n",
              "10677  ООО \"Максидом\"\\n\\n\\nПриказ\\nВ связи с подготов...   \n",
              "11727  ООО \"Столы и стулья\"\\n\\n\\nПриказ\\nДля организа...   \n",
              "11747  ООО \"Мегасофт\"\\n\\n\\nПриказ\\nВ связи с окончани...   \n",
              "11989  ООО \"Мегасофт\"\\n\\n\\nПриказ\\nВ связи с окончани...   \n",
              "12129  ООО \"Мегасофт\"\\n\\n\\nПриказ\\nДля организации ме...   \n",
              "12598  ООО \"Мегасофт\"\\n\\n\\nПриказ\\nВ связи с окончани...   \n",
              "13024  ООО \"Мегасофт-11\"\\n\\n\\nПриказ\\nВ связи с оконч...   \n",
              "13380  ООО \"Мегасофт\"\\n\\n\\nПриказ\\nДля организации ме...   \n",
              "14586  ООО \"Мегасофт\"\\n\\n\\nПриказ\\nВ связи с окончани...   \n",
              "14745  ООО \"Мегасофт\"\\n\\n\\nПриказ\\nДля организации ме...   \n",
              "15101  ООО \"Ромашка - Мегасофт\"\\n\\n\\nПриказ\\nВ связи ...   \n",
              "15882  ООО \"Мегасофт\"\\n\\n\\nПриказ\\nДля организации ме...   \n",
              "16599  ООО \"Мегасофт\"\\n\\n\\nПриказ\\nВ связи с окончани...   \n",
              "17336  ООО \"Мегасофт\"\\n\\n\\nПриказ\\nВ связи с окончани...   \n",
              "17563  ООО \"Мегасофт\"\\n\\n\\nПриказ\\nВ связи с подготов...   \n",
              "18344  ООО \"Мегасофт\"\\n\\n\\nПриказ\\nВ связи с окончани...   \n",
              "19196  ООО \"Мегасофт\"\\n\\n\\nПриказ\\nВ связи с окончани...   \n",
              "19877  ООО \"Мегасофт\"\\n\\n\\nПриказ\\nВ связи с подготов...   \n",
              "19969  ООО \"Мегафон\"\\n\\n\\nПриказ\\nВ связи с подготовк...   \n",
              "\n",
              "                                              clear_text verification_org  \\\n",
              "id                                                                          \n",
              "10008   ооо \" морковь \" приказ в связь с окончание пр...                N   \n",
              "10677   ооо \" максидом \" приказ в связь с подготовка ...                N   \n",
              "11727   ооо \" стол и стул \" приказ для организация ме...                N   \n",
              "11747   ооо \" мегасофт \" приказ в связь с окончание п...                N   \n",
              "11989   ооо \" мегасофт \" приказ в связь с окончание п...                N   \n",
              "12129   ооо \" мегасофт \" приказ для организация мероп...                N   \n",
              "12598   ооо \" мегасофт \" приказ в связь с окончание п...                N   \n",
              "13024   ооо \" мегасофт-11 \" приказ в связь с окончани...                N   \n",
              "13380   ооо \" мегасофт \" приказ для организация мероп...                N   \n",
              "14586   ооо \" мегасофт \" приказ в связь с окончание п...                N   \n",
              "14745   ооо \" мегасофт \" приказ для организация мероп...                N   \n",
              "15101   ооо \" ромашка - мегасофт \" приказ в связь с о...                N   \n",
              "15882   ооо \" мегасофт \" приказ для организация мероп...                N   \n",
              "16599   ооо \" мегасофт \" приказ в связь с окончание п...                N   \n",
              "17336   ооо \" мегасофт \" приказ в связь с окончание п...                N   \n",
              "17563   ооо \" мегасофт \" приказ в связь с подготовка ...                N   \n",
              "18344   ооо \" мегасофт \" приказ в связь с окончание п...                N   \n",
              "19196   ооо \" мегасофт \" приказ в связь с окончание п...                N   \n",
              "19877   ооо \" мегасофт \" приказ в связь с подготовка ...                N   \n",
              "19969   ооо \" мегафон \" приказ в связь с подготовка п...                N   \n",
              "\n",
              "                                               exist_org  \\\n",
              "id                                                         \n",
              "10008                                              [с.в]   \n",
              "10677                         [ооо \" максидом \", github]   \n",
              "11727                [ооо, с.с.галкина 2, поспелову н.а]   \n",
              "11747                            [ооо \" мегасофт \", с.в]   \n",
              "11989                                 [ооо \" мегасофт \"]   \n",
              "12129              [ооо \" мегасофт \", поспелову н.а. a.]   \n",
              "12598                                 [ооо \" мегасофт \"]   \n",
              "13024                              [ооо \" мегасофт-11 \"]   \n",
              "13380                    [ооо \" мегасофт \", ит, ит, с.в]   \n",
              "14586                                 [ооо \" мегасофт \"]   \n",
              "14745                            [ооо \" мегасофт \", с.в]   \n",
              "15101  [ооо, поспелову н.а. iii, поспелову н.а. a., к...   \n",
              "15882                                 [ооо \" мегасофт \"]   \n",
              "16599               [ооо \" мегасофт \", н.а. i ), github]   \n",
              "17336                                 [ооо \" мегасофт \"]   \n",
              "17563                                 [ооо \" мегасофт \"]   \n",
              "18344  [ооо \" мегасофт \", с.с.галкина a., с.с.галкина...   \n",
              "19196                            [ооо \" мегасофт \", м.с]   \n",
              "19877                [ооо \" мегасофт \", a., ит, а.а. a.]   \n",
              "19969                       [ооо \" мегафон \", н.а, с.в.]   \n",
              "\n",
              "                   new_persons  exist_persons  \n",
              "id                                             \n",
              "10008                [созонов]            0.0  \n",
              "10677               [ромашкин]            0.0  \n",
              "11727            [никишин с.е]            0.0  \n",
              "11747                     None            NaN  \n",
              "11989      [абаимов симон b )]            0.0  \n",
              "12129         [сергеев андрей]            0.0  \n",
              "12598          [абаимов симон]            0.0  \n",
              "13024            [кравцов с.с]            0.0  \n",
              "13380  [сергеев ален иванович]            0.0  \n",
              "14586            [андреев с.е]            0.0  \n",
              "14745            [сергеев а.и]            0.0  \n",
              "15101  [сергеев ален ивановну]            0.0  \n",
              "15882           [мирошниченко]            0.0  \n",
              "16599                 [попков]            0.0  \n",
              "17336              [кравцовой]            0.0  \n",
              "17563          [абалкин зураб]            0.0  \n",
              "18344                [миронов]            0.0  \n",
              "19196                [абашкин]            0.0  \n",
              "19877       [ягодкин веронику]            0.0  \n",
              "19969           [сергейчикову]            0.0  "
            ],
            "text/html": [
              "\n",
              "  <div id=\"df-cd22b04a-6862-4fdc-b0f2-99b5bed0023e\">\n",
              "    <div class=\"colab-df-container\">\n",
              "      <div>\n",
              "<style scoped>\n",
              "    .dataframe tbody tr th:only-of-type {\n",
              "        vertical-align: middle;\n",
              "    }\n",
              "\n",
              "    .dataframe tbody tr th {\n",
              "        vertical-align: top;\n",
              "    }\n",
              "\n",
              "    .dataframe thead th {\n",
              "        text-align: right;\n",
              "    }\n",
              "</style>\n",
              "<table border=\"1\" class=\"dataframe\">\n",
              "  <thead>\n",
              "    <tr style=\"text-align: right;\">\n",
              "      <th></th>\n",
              "      <th>text</th>\n",
              "      <th>clear_text</th>\n",
              "      <th>verification_org</th>\n",
              "      <th>exist_org</th>\n",
              "      <th>new_persons</th>\n",
              "      <th>exist_persons</th>\n",
              "    </tr>\n",
              "    <tr>\n",
              "      <th>id</th>\n",
              "      <th></th>\n",
              "      <th></th>\n",
              "      <th></th>\n",
              "      <th></th>\n",
              "      <th></th>\n",
              "      <th></th>\n",
              "    </tr>\n",
              "  </thead>\n",
              "  <tbody>\n",
              "    <tr>\n",
              "      <th>10008</th>\n",
              "      <td>ООО \"Морковь\"\\n\\n\\nПриказ\\nВ связи с окончание...</td>\n",
              "      <td>ооо \" морковь \" приказ в связь с окончание пр...</td>\n",
              "      <td>N</td>\n",
              "      <td>[с.в]</td>\n",
              "      <td>[созонов]</td>\n",
              "      <td>0.0</td>\n",
              "    </tr>\n",
              "    <tr>\n",
              "      <th>10677</th>\n",
              "      <td>ООО \"Максидом\"\\n\\n\\nПриказ\\nВ связи с подготов...</td>\n",
              "      <td>ооо \" максидом \" приказ в связь с подготовка ...</td>\n",
              "      <td>N</td>\n",
              "      <td>[ооо \" максидом \", github]</td>\n",
              "      <td>[ромашкин]</td>\n",
              "      <td>0.0</td>\n",
              "    </tr>\n",
              "    <tr>\n",
              "      <th>11727</th>\n",
              "      <td>ООО \"Столы и стулья\"\\n\\n\\nПриказ\\nДля организа...</td>\n",
              "      <td>ооо \" стол и стул \" приказ для организация ме...</td>\n",
              "      <td>N</td>\n",
              "      <td>[ооо, с.с.галкина 2, поспелову н.а]</td>\n",
              "      <td>[никишин с.е]</td>\n",
              "      <td>0.0</td>\n",
              "    </tr>\n",
              "    <tr>\n",
              "      <th>11747</th>\n",
              "      <td>ООО \"Мегасофт\"\\n\\n\\nПриказ\\nВ связи с окончани...</td>\n",
              "      <td>ооо \" мегасофт \" приказ в связь с окончание п...</td>\n",
              "      <td>N</td>\n",
              "      <td>[ооо \" мегасофт \", с.в]</td>\n",
              "      <td>None</td>\n",
              "      <td>NaN</td>\n",
              "    </tr>\n",
              "    <tr>\n",
              "      <th>11989</th>\n",
              "      <td>ООО \"Мегасофт\"\\n\\n\\nПриказ\\nВ связи с окончани...</td>\n",
              "      <td>ооо \" мегасофт \" приказ в связь с окончание п...</td>\n",
              "      <td>N</td>\n",
              "      <td>[ооо \" мегасофт \"]</td>\n",
              "      <td>[абаимов симон b )]</td>\n",
              "      <td>0.0</td>\n",
              "    </tr>\n",
              "    <tr>\n",
              "      <th>12129</th>\n",
              "      <td>ООО \"Мегасофт\"\\n\\n\\nПриказ\\nДля организации ме...</td>\n",
              "      <td>ооо \" мегасофт \" приказ для организация мероп...</td>\n",
              "      <td>N</td>\n",
              "      <td>[ооо \" мегасофт \", поспелову н.а. a.]</td>\n",
              "      <td>[сергеев андрей]</td>\n",
              "      <td>0.0</td>\n",
              "    </tr>\n",
              "    <tr>\n",
              "      <th>12598</th>\n",
              "      <td>ООО \"Мегасофт\"\\n\\n\\nПриказ\\nВ связи с окончани...</td>\n",
              "      <td>ооо \" мегасофт \" приказ в связь с окончание п...</td>\n",
              "      <td>N</td>\n",
              "      <td>[ооо \" мегасофт \"]</td>\n",
              "      <td>[абаимов симон]</td>\n",
              "      <td>0.0</td>\n",
              "    </tr>\n",
              "    <tr>\n",
              "      <th>13024</th>\n",
              "      <td>ООО \"Мегасофт-11\"\\n\\n\\nПриказ\\nВ связи с оконч...</td>\n",
              "      <td>ооо \" мегасофт-11 \" приказ в связь с окончани...</td>\n",
              "      <td>N</td>\n",
              "      <td>[ооо \" мегасофт-11 \"]</td>\n",
              "      <td>[кравцов с.с]</td>\n",
              "      <td>0.0</td>\n",
              "    </tr>\n",
              "    <tr>\n",
              "      <th>13380</th>\n",
              "      <td>ООО \"Мегасофт\"\\n\\n\\nПриказ\\nДля организации ме...</td>\n",
              "      <td>ооо \" мегасофт \" приказ для организация мероп...</td>\n",
              "      <td>N</td>\n",
              "      <td>[ооо \" мегасофт \", ит, ит, с.в]</td>\n",
              "      <td>[сергеев ален иванович]</td>\n",
              "      <td>0.0</td>\n",
              "    </tr>\n",
              "    <tr>\n",
              "      <th>14586</th>\n",
              "      <td>ООО \"Мегасофт\"\\n\\n\\nПриказ\\nВ связи с окончани...</td>\n",
              "      <td>ооо \" мегасофт \" приказ в связь с окончание п...</td>\n",
              "      <td>N</td>\n",
              "      <td>[ооо \" мегасофт \"]</td>\n",
              "      <td>[андреев с.е]</td>\n",
              "      <td>0.0</td>\n",
              "    </tr>\n",
              "    <tr>\n",
              "      <th>14745</th>\n",
              "      <td>ООО \"Мегасофт\"\\n\\n\\nПриказ\\nДля организации ме...</td>\n",
              "      <td>ооо \" мегасофт \" приказ для организация мероп...</td>\n",
              "      <td>N</td>\n",
              "      <td>[ооо \" мегасофт \", с.в]</td>\n",
              "      <td>[сергеев а.и]</td>\n",
              "      <td>0.0</td>\n",
              "    </tr>\n",
              "    <tr>\n",
              "      <th>15101</th>\n",
              "      <td>ООО \"Ромашка - Мегасофт\"\\n\\n\\nПриказ\\nВ связи ...</td>\n",
              "      <td>ооо \" ромашка - мегасофт \" приказ в связь с о...</td>\n",
              "      <td>N</td>\n",
              "      <td>[ооо, поспелову н.а. iii, поспелову н.а. a., к...</td>\n",
              "      <td>[сергеев ален ивановну]</td>\n",
              "      <td>0.0</td>\n",
              "    </tr>\n",
              "    <tr>\n",
              "      <th>15882</th>\n",
              "      <td>ООО \"Мегасофт\"\\n\\n\\nПриказ\\nДля организации ме...</td>\n",
              "      <td>ооо \" мегасофт \" приказ для организация мероп...</td>\n",
              "      <td>N</td>\n",
              "      <td>[ооо \" мегасофт \"]</td>\n",
              "      <td>[мирошниченко]</td>\n",
              "      <td>0.0</td>\n",
              "    </tr>\n",
              "    <tr>\n",
              "      <th>16599</th>\n",
              "      <td>ООО \"Мегасофт\"\\n\\n\\nПриказ\\nВ связи с окончани...</td>\n",
              "      <td>ооо \" мегасофт \" приказ в связь с окончание п...</td>\n",
              "      <td>N</td>\n",
              "      <td>[ооо \" мегасофт \", н.а. i ), github]</td>\n",
              "      <td>[попков]</td>\n",
              "      <td>0.0</td>\n",
              "    </tr>\n",
              "    <tr>\n",
              "      <th>17336</th>\n",
              "      <td>ООО \"Мегасофт\"\\n\\n\\nПриказ\\nВ связи с окончани...</td>\n",
              "      <td>ооо \" мегасофт \" приказ в связь с окончание п...</td>\n",
              "      <td>N</td>\n",
              "      <td>[ооо \" мегасофт \"]</td>\n",
              "      <td>[кравцовой]</td>\n",
              "      <td>0.0</td>\n",
              "    </tr>\n",
              "    <tr>\n",
              "      <th>17563</th>\n",
              "      <td>ООО \"Мегасофт\"\\n\\n\\nПриказ\\nВ связи с подготов...</td>\n",
              "      <td>ооо \" мегасофт \" приказ в связь с подготовка ...</td>\n",
              "      <td>N</td>\n",
              "      <td>[ооо \" мегасофт \"]</td>\n",
              "      <td>[абалкин зураб]</td>\n",
              "      <td>0.0</td>\n",
              "    </tr>\n",
              "    <tr>\n",
              "      <th>18344</th>\n",
              "      <td>ООО \"Мегасофт\"\\n\\n\\nПриказ\\nВ связи с окончани...</td>\n",
              "      <td>ооо \" мегасофт \" приказ в связь с окончание п...</td>\n",
              "      <td>N</td>\n",
              "      <td>[ооо \" мегасофт \", с.с.галкина a., с.с.галкина...</td>\n",
              "      <td>[миронов]</td>\n",
              "      <td>0.0</td>\n",
              "    </tr>\n",
              "    <tr>\n",
              "      <th>19196</th>\n",
              "      <td>ООО \"Мегасофт\"\\n\\n\\nПриказ\\nВ связи с окончани...</td>\n",
              "      <td>ооо \" мегасофт \" приказ в связь с окончание п...</td>\n",
              "      <td>N</td>\n",
              "      <td>[ооо \" мегасофт \", м.с]</td>\n",
              "      <td>[абашкин]</td>\n",
              "      <td>0.0</td>\n",
              "    </tr>\n",
              "    <tr>\n",
              "      <th>19877</th>\n",
              "      <td>ООО \"Мегасофт\"\\n\\n\\nПриказ\\nВ связи с подготов...</td>\n",
              "      <td>ооо \" мегасофт \" приказ в связь с подготовка ...</td>\n",
              "      <td>N</td>\n",
              "      <td>[ооо \" мегасофт \", a., ит, а.а. a.]</td>\n",
              "      <td>[ягодкин веронику]</td>\n",
              "      <td>0.0</td>\n",
              "    </tr>\n",
              "    <tr>\n",
              "      <th>19969</th>\n",
              "      <td>ООО \"Мегафон\"\\n\\n\\nПриказ\\nВ связи с подготовк...</td>\n",
              "      <td>ооо \" мегафон \" приказ в связь с подготовка п...</td>\n",
              "      <td>N</td>\n",
              "      <td>[ооо \" мегафон \", н.а, с.в.]</td>\n",
              "      <td>[сергейчикову]</td>\n",
              "      <td>0.0</td>\n",
              "    </tr>\n",
              "  </tbody>\n",
              "</table>\n",
              "</div>\n",
              "      <button class=\"colab-df-convert\" onclick=\"convertToInteractive('df-cd22b04a-6862-4fdc-b0f2-99b5bed0023e')\"\n",
              "              title=\"Convert this dataframe to an interactive table.\"\n",
              "              style=\"display:none;\">\n",
              "        \n",
              "  <svg xmlns=\"http://www.w3.org/2000/svg\" height=\"24px\"viewBox=\"0 0 24 24\"\n",
              "       width=\"24px\">\n",
              "    <path d=\"M0 0h24v24H0V0z\" fill=\"none\"/>\n",
              "    <path d=\"M18.56 5.44l.94 2.06.94-2.06 2.06-.94-2.06-.94-.94-2.06-.94 2.06-2.06.94zm-11 1L8.5 8.5l.94-2.06 2.06-.94-2.06-.94L8.5 2.5l-.94 2.06-2.06.94zm10 10l.94 2.06.94-2.06 2.06-.94-2.06-.94-.94-2.06-.94 2.06-2.06.94z\"/><path d=\"M17.41 7.96l-1.37-1.37c-.4-.4-.92-.59-1.43-.59-.52 0-1.04.2-1.43.59L10.3 9.45l-7.72 7.72c-.78.78-.78 2.05 0 2.83L4 21.41c.39.39.9.59 1.41.59.51 0 1.02-.2 1.41-.59l7.78-7.78 2.81-2.81c.8-.78.8-2.07 0-2.86zM5.41 20L4 18.59l7.72-7.72 1.47 1.35L5.41 20z\"/>\n",
              "  </svg>\n",
              "      </button>\n",
              "      \n",
              "  <style>\n",
              "    .colab-df-container {\n",
              "      display:flex;\n",
              "      flex-wrap:wrap;\n",
              "      gap: 12px;\n",
              "    }\n",
              "\n",
              "    .colab-df-convert {\n",
              "      background-color: #E8F0FE;\n",
              "      border: none;\n",
              "      border-radius: 50%;\n",
              "      cursor: pointer;\n",
              "      display: none;\n",
              "      fill: #1967D2;\n",
              "      height: 32px;\n",
              "      padding: 0 0 0 0;\n",
              "      width: 32px;\n",
              "    }\n",
              "\n",
              "    .colab-df-convert:hover {\n",
              "      background-color: #E2EBFA;\n",
              "      box-shadow: 0px 1px 2px rgba(60, 64, 67, 0.3), 0px 1px 3px 1px rgba(60, 64, 67, 0.15);\n",
              "      fill: #174EA6;\n",
              "    }\n",
              "\n",
              "    [theme=dark] .colab-df-convert {\n",
              "      background-color: #3B4455;\n",
              "      fill: #D2E3FC;\n",
              "    }\n",
              "\n",
              "    [theme=dark] .colab-df-convert:hover {\n",
              "      background-color: #434B5C;\n",
              "      box-shadow: 0px 1px 3px 1px rgba(0, 0, 0, 0.15);\n",
              "      filter: drop-shadow(0px 1px 2px rgba(0, 0, 0, 0.3));\n",
              "      fill: #FFFFFF;\n",
              "    }\n",
              "  </style>\n",
              "\n",
              "      <script>\n",
              "        const buttonEl =\n",
              "          document.querySelector('#df-cd22b04a-6862-4fdc-b0f2-99b5bed0023e button.colab-df-convert');\n",
              "        buttonEl.style.display =\n",
              "          google.colab.kernel.accessAllowed ? 'block' : 'none';\n",
              "\n",
              "        async function convertToInteractive(key) {\n",
              "          const element = document.querySelector('#df-cd22b04a-6862-4fdc-b0f2-99b5bed0023e');\n",
              "          const dataTable =\n",
              "            await google.colab.kernel.invokeFunction('convertToInteractive',\n",
              "                                                     [key], {});\n",
              "          if (!dataTable) return;\n",
              "\n",
              "          const docLinkHtml = 'Like what you see? Visit the ' +\n",
              "            '<a target=\"_blank\" href=https://colab.research.google.com/notebooks/data_table.ipynb>data table notebook</a>'\n",
              "            + ' to learn more about interactive tables.';\n",
              "          element.innerHTML = '';\n",
              "          dataTable['output_type'] = 'display_data';\n",
              "          await google.colab.output.renderOutput(dataTable, element);\n",
              "          const docLink = document.createElement('div');\n",
              "          docLink.innerHTML = docLinkHtml;\n",
              "          element.appendChild(docLink);\n",
              "        }\n",
              "      </script>\n",
              "    </div>\n",
              "  </div>\n",
              "  "
            ]
          },
          "metadata": {},
          "execution_count": 190
        }
      ]
    },
    {
      "cell_type": "code",
      "source": [
        "df2.new_persons.value_counts()"
      ],
      "metadata": {
        "id": "TWKS5tE9NsqC"
      },
      "execution_count": null,
      "outputs": []
    }
  ]
}